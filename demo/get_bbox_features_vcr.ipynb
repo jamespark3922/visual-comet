{
 "cells": [
  {
   "cell_type": "code",
   "execution_count": 1,
   "id": "4a03d367",
   "metadata": {},
   "outputs": [],
   "source": [
    "import detectron2\n",
    "from detectron2.utils.logger import setup_logger\n",
    "setup_logger()\n",
    "\n",
    "# import some common libraries\n",
    "import numpy as np\n",
    "import cv2\n",
    "from matplotlib import pyplot as plt\n",
    "import random\n",
    "import json\n",
    "import pickle\n",
    "\n",
    "import time\n",
    "import os\n",
    "from tqdm import tqdm\n",
    "\n",
    "# import some common detectron2 utilities\n",
    "import torch\n",
    "\n",
    "from detectron2.modeling.postprocessing import detector_postprocess\n",
    "from detectron2.modeling.roi_heads.fast_rcnn import FastRCNNOutputLayers, FastRCNNOutputs, fast_rcnn_inference_single_image\n",
    "from detectron2.structures.boxes import Boxes\n",
    "from detectron2.structures.instances import Instances\n",
    "\n",
    "from detectron2 import model_zoo\n",
    "from detectron2.engine import DefaultPredictor\n",
    "from detectron2.config import get_cfg\n",
    "from detectron2.modeling import build_model\n",
    "from detectron2.utils.visualizer import Visualizer\n",
    "from detectron2.data import MetadataCatalog"
   ]
  },
  {
   "cell_type": "code",
   "execution_count": 19,
   "id": "be641496",
   "metadata": {},
   "outputs": [
    {
     "data": {
      "text/plain": [
       "'0.4'"
      ]
     },
     "execution_count": 19,
     "metadata": {},
     "output_type": "execute_result"
    }
   ],
   "source": [
    "detectron2.__version__"
   ]
  },
  {
   "cell_type": "code",
   "execution_count": 2,
   "id": "1b98ad75",
   "metadata": {},
   "outputs": [],
   "source": [
    "cfg = get_cfg()\n",
    "# add project-specific config (e.g., TensorMask) here if you're not running a model in detectron2's core library\n",
    "cfg.merge_from_file(model_zoo.get_config_file(\"COCO-InstanceSegmentation/mask_rcnn_R_101_C4_3x.yaml\"))\n",
    "cfg.MODEL.ROI_HEADS.SCORE_THRESH_TEST = 0.5  # set threshold for this model\n",
    "# Find a model from detectron2's model zoo. You can use the https://dl.fbaipublicfiles... url as well\n",
    "cfg.MODEL.WEIGHTS = model_zoo.get_checkpoint_url(\"COCO-InstanceSegmentation/mask_rcnn_R_101_C4_3x.yaml\")\n",
    "predictor = DefaultPredictor(cfg)"
   ]
  },
  {
   "cell_type": "code",
   "execution_count": 4,
   "id": "a873b2ea",
   "metadata": {},
   "outputs": [],
   "source": [
    "coco_key = MetadataCatalog.get(cfg.DATASETS.TRAIN[0]).thing_dataset_id_to_contiguous_id\n",
    "coco_key = {coco_key[k]: k for k in coco_key}"
   ]
  },
  {
   "cell_type": "code",
   "execution_count": 5,
   "id": "1f9acb45",
   "metadata": {},
   "outputs": [
    {
     "name": "stdout",
     "output_type": "stream",
     "text": [
      "2336\n"
     ]
    }
   ],
   "source": [
    "IMAGE_DIR = \"/home/jamesp/data/vcr/vcr1images\"\n",
    "OUTPUT_DIR = \"/home/jamesp/data/visualcomet/features-test\"\n",
    "os.makedirs(OUTPUT_DIR, exist_ok=True)\n",
    "movie_dirs = sorted(os.listdir(IMAGE_DIR))\n",
    "print(len(movie_dirs))"
   ]
  },
  {
   "cell_type": "code",
   "execution_count": 8,
   "id": "7c05afe2",
   "metadata": {},
   "outputs": [],
   "source": [
    "def doit(raw_image, raw_boxes):\n",
    "    # Process Boxes\n",
    "    raw_boxes = Boxes(torch.from_numpy(raw_boxes).cuda())\n",
    "    \n",
    "    with torch.no_grad():\n",
    "        raw_height, raw_width = raw_image.shape[:2]\n",
    "        \n",
    "        # Preprocessing\n",
    "        image = predictor.aug.get_transform(raw_image).apply_image(raw_image) # use aug attribute to get transform\n",
    "        \n",
    "        # Scale the box\n",
    "        new_height, new_width = image.shape[:2]\n",
    "        scale_x = 1. * new_width / raw_width\n",
    "        scale_y = 1. * new_height / raw_height\n",
    "        #print(scale_x, scale_y)\n",
    "        boxes = raw_boxes.clone()\n",
    "        boxes.scale(scale_x=scale_x, scale_y=scale_y)\n",
    "        \n",
    "        # ----\n",
    "        image = torch.as_tensor(image.astype(\"float32\").transpose(2, 0, 1))\n",
    "        inputs = [{\"image\": image, \"height\": raw_height, \"width\": raw_width}]\n",
    "        images = predictor.model.preprocess_image(inputs)\n",
    "        \n",
    "        # Run Backbone Res1-Res4\n",
    "        features = predictor.model.backbone(images.tensor)\n",
    "        \n",
    "        # Run RoI head for each proposal (RoI Pooling + Res5)\n",
    "        proposal_boxes = [boxes]\n",
    "        features = [features[f] for f in predictor.model.roi_heads.in_features]\n",
    "        box_features = predictor.model.roi_heads._shared_roi_transform(\n",
    "            features, proposal_boxes\n",
    "        )\n",
    "        feature_pooled = box_features.mean(dim=[2, 3])  # pooled to 1x1\n",
    "        return feature_pooled  "
   ]
  },
  {
   "cell_type": "code",
   "execution_count": 11,
   "id": "45d3dbcc",
   "metadata": {},
   "outputs": [
    {
     "name": "stderr",
     "output_type": "stream",
     "text": [
      "  0%|                                                                                                      | 0/2 [00:00<?, ?it/s]\n",
      "100%|████████████████████████████████████████████████████████████████████████████████████████| 20/20 [00:00<00:00, 176974.85it/s]\u001b[A\n"
     ]
    },
    {
     "name": "stdout",
     "output_type": "stream",
     "text": [
      "/home/jamesp/data/visualcomet/features-test/-qq785V7JOU@1.pkl\n",
      "/home/jamesp/data/visualcomet/features-test/4zJ3a0K2DP0@10.pkl\n",
      "/home/jamesp/data/visualcomet/features-test/89hYiDNscBE@18.pkl\n",
      "/home/jamesp/data/visualcomet/features-test/89hYiDNscBE@6.pkl\n",
      "/home/jamesp/data/visualcomet/features-test/HdU-6bKqhzk@23.pkl\n",
      "/home/jamesp/data/visualcomet/features-test/W1fkINKMwHA@2.pkl\n",
      "/home/jamesp/data/visualcomet/features-test/Wt5LAZa7LAU@15.pkl\n",
      "/home/jamesp/data/visualcomet/features-test/o3f521sUTaE@2.pkl\n",
      "/home/jamesp/data/visualcomet/features-test/o3f521sUTaE@25.pkl\n",
      "/home/jamesp/data/visualcomet/features-test/o3f521sUTaE@27.pkl\n",
      "/home/jamesp/data/visualcomet/features-test/o3f521sUTaE@33.pkl\n",
      "/home/jamesp/data/visualcomet/features-test/o3f521sUTaE@37.pkl\n",
      "/home/jamesp/data/visualcomet/features-test/qfym2Neaz4c@21.pkl\n",
      "/home/jamesp/data/visualcomet/features-test/ssM67LXOwQw@11.pkl\n",
      "/home/jamesp/data/visualcomet/features-test/ssM67LXOwQw@18.pkl\n",
      "/home/jamesp/data/visualcomet/features-test/ssM67LXOwQw@22.pkl\n",
      "/home/jamesp/data/visualcomet/features-test/ssM67LXOwQw@27.pkl\n",
      "/home/jamesp/data/visualcomet/features-test/ssM67LXOwQw@3.pkl\n"
     ]
    },
    {
     "name": "stderr",
     "output_type": "stream",
     "text": [
      "\r",
      "  0%|                                                                                                      | 0/2 [00:01<?, ?it/s]"
     ]
    },
    {
     "name": "stdout",
     "output_type": "stream",
     "text": [
      "/home/jamesp/data/visualcomet/features-test/ssM67LXOwQw@33.pkl\n",
      "/home/jamesp/data/visualcomet/features-test/ssM67LXOwQw@35.pkl\n"
     ]
    },
    {
     "name": "stderr",
     "output_type": "stream",
     "text": [
      "\n"
     ]
    }
   ],
   "source": [
    "for movie in tqdm(movie_dirs[-2:]):\n",
    "    img_ids = list(set([id[:id.rfind('.')] for id in os.listdir(os.path.join(IMAGE_DIR,movie))]))\n",
    "    for id in sorted(tqdm(img_ids)):\n",
    "        im = cv2.imread(os.path.join(IMAGE_DIR,movie,id+'.jpg'))\n",
    "        metadata = json.load(open(os.path.join(IMAGE_DIR,movie,id+'.json')))\n",
    "        boxes = np.array(metadata['boxes'])[:,:4]\n",
    "        h = metadata['height']\n",
    "        w = metadata['width']\n",
    "        boxes = np.row_stack((np.array([0,0,w,h]),boxes))\n",
    "        obj_rep = doit(im, boxes).to(\"cpu\").numpy()\n",
    "        \n",
    "        features = {'image_features' : obj_rep[0],\n",
    "                    'object_features' : obj_rep[1:]}\n",
    "        output_name = os.path.join(OUTPUT_DIR,id+'.pkl')\n",
    "        pickle.dump(features, open(output_name,'wb'))"
   ]
  },
  {
   "cell_type": "code",
   "execution_count": null,
   "id": "65602cfa",
   "metadata": {},
   "outputs": [],
   "source": []
  }
 ],
 "metadata": {
  "kernelspec": {
   "display_name": "Python 3 (ipykernel)",
   "language": "python",
   "name": "python3"
  },
  "language_info": {
   "codemirror_mode": {
    "name": "ipython",
    "version": 3
   },
   "file_extension": ".py",
   "mimetype": "text/x-python",
   "name": "python",
   "nbconvert_exporter": "python",
   "pygments_lexer": "ipython3",
   "version": "3.8.10"
  }
 },
 "nbformat": 4,
 "nbformat_minor": 5
}
